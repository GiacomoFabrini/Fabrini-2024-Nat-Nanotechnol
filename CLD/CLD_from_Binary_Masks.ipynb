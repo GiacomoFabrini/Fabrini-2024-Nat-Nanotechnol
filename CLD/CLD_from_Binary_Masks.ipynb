{
 "cells": [
  {
   "cell_type": "markdown",
   "metadata": {},
   "source": [
    "Data needed in input:\n",
    "- Segmentation masks from epifluorescence timelapses obtained by using the FIJI macro \"Fiji utils/RNA_epifluorescence_timelapse_segmentation.ijm\") within `experiment_dir`. "
   ]
  },
  {
   "cell_type": "code",
   "execution_count": null,
   "metadata": {
    "id": "ZdomnY2Fhs9o"
   },
   "outputs": [],
   "source": [
    "import cv2\n",
    "import matplotlib.pyplot as plt\n",
    "import numpy as np\n",
    "import os\n",
    "import porespy as ps\n",
    "import scipy.ndimage as spim\n",
    "\n",
    "from skimage.measure import regionprops"
   ]
  },
  {
   "cell_type": "code",
   "execution_count": null,
   "metadata": {
    "id": "BwBrO9vZqg82"
   },
   "outputs": [],
   "source": [
    "# from porespy - seems like it's not a directly accessible function, but directly returns the chord lengths\n",
    "def chord_counts(im):\n",
    "    labels, N = spim.label(im > 0)\n",
    "    props = regionprops(labels)\n",
    "    chord_lens = np.array([i.filled_area for i in props])\n",
    "    return chord_lens"
   ]
  },
  {
   "cell_type": "code",
   "execution_count": null,
   "metadata": {
    "id": "e8kc6zlzh3I9"
   },
   "outputs": [],
   "source": [
    "# CHANGE TO ABSOLUTE PATH containing binary masks from timelapse segmentation\n",
    "experiment_dir = \"/ABSOLUTE/PATH/TO/BINARY/MASKS/\""
   ]
  },
  {
   "cell_type": "markdown",
   "metadata": {
    "id": "mYItXXchnV-w"
   },
   "source": [
    "# Example: Bulk Assembly of condensates from RNA nanostars A, B, C"
   ]
  },
  {
   "cell_type": "code",
   "execution_count": null,
   "metadata": {
    "colab": {
     "base_uri": "https://localhost:8080/"
    },
    "id": "i70RVld5nZZQ",
    "outputId": "2541fef4-cd31-403a-ce80-142d610995a5"
   },
   "outputs": [],
   "source": [
    "os.chdir(experiment_dir)\n",
    "files = list(os.listdir())\n",
    "files_a = [x for x in files if 'NS_A' in x]\n",
    "files_b = [x for x in files if 'NS_B' in x]\n",
    "files_c = [x for x in files if 'NS_C' in x]\n",
    "files_a.sort()\n", 
    "files_b.sort()\n", 
    "files_c.sort()"
   ]
  },
  {
   "cell_type": "code",
   "execution_count": null,
   "metadata": {
    "colab": {
     "base_uri": "https://localhost:8080/",
     "height": 1000
    },
    "id": "GVe-Lusco8nG",
    "outputId": "816d3f8b-d11f-40ed-b7f2-b9d94e033e3a",
    "scrolled": true
   },
   "outputs": [],
   "source": [
    "cld = {}\n",
    "for sample_files, sample_label in zip([files_a, files_b, files_c], ['NS_A', 'NS_B', 'NS_C']): \n",
    "    cld[sample_label] = {}\n",
    "    print(sample_label)\n",
    "    for filename, rep in zip(sample_files, range(1, len(sample_files)+1)): \n",
    "        print(filename, rep)\n",
    "        # Initialise dictionary entry for this sample and this replicate FOV (`rep`)\n",
    "        cld[sample_label][rep] = {'x':[], 'y':[], 'count_x': [], 'count_y' : []}\n",
    "        # Read file and load timelapse of binary masks\n",
    "        timelapse = cv2.imreadmulti(filename)[1]\n",
    "        for timepoint in range(len(timelapse)): \n",
    "            # Invert mask -  from dark objects on bright background \n",
    "            # to bright objects on dark background\n",
    "            img = np.array(255 - timelapse[timepoint][:, :, 0])\n",
    "            # Extract X chords\n",
    "            crds_x = ps.filters.apply_chords(im=img, spacing=1, axis=0, trim_edges=False)\n",
    "            # Extract Y chords\n",
    "            crds_y = ps.filters.apply_chords(im=img, spacing=1, axis=1, trim_edges=False)\n",
    "            # Get CLD along X and save it in the entry\n",
    "            data_x = ps.metrics.chord_length_distribution(crds_x, bins=100)\n",
    "            cld[sample_label][rep]['x'].append(data_x)\n",
    "            # Get CLD along Y and save it in the entry\n",
    "            data_y = ps.metrics.chord_length_distribution(crds_y, bins=100)\n",
    "            cld[sample_label][rep]['y'].append(data_y)\n",
    "            # Get raw chord counts and save them in the corresponding entries\n",
    "            cld[sample_label][rep]['count_x'].append(chord_counts(crds_x))\n",
    "            cld[sample_label][rep]['count_y'].append(chord_counts(crds_y))\n",
    "            # plot results every 15 timepoints\n",
    "            if timepoint % 15 == 0:\n",
    "                print('Timepoint: ', timepoint, \"/\", len(timelapse))\n",
    "                plt.subplots(1, 4, figsize = (20, 5))\n",
    "                plt.subplot(141)\n",
    "                plt.imshow(img)\n",
    "                plt.title('Original (inverted) mask')\n",
    "                plt.subplot(142)\n",
    "                plt.imshow(crds_x, interpolation='none', origin='lower')\n",
    "                plt.title('Chords - X')\n",
    "                plt.axis(False)\n",
    "                plt.subplot(143)\n",
    "                plt.imshow(crds_y, interpolation='none', origin='lower')\n",
    "                plt.title('Chords - Y')\n",
    "                plt.axis(False);\n",
    "                plt.subplot(144)\n",
    "                plt.bar(x=data_y.L, height=data_y.cdf, width=data_y.bin_widths, color='b', edgecolor='k', alpha=0.5, label = 'Y');\n",
    "                plt.bar(x=data_x.L, height=data_x.cdf, width=data_x.bin_widths, color='r', edgecolor='k', alpha=0.5, label = 'X');\n",
    "                plt.xlabel(\"Chord Length Distribution\")\n",
    "                plt.ylabel(\"Frequency\");\n",
    "                plt.legend(frameon = False)\n",
    "                plt.show()"
   ]
  },
  {
   "cell_type": "code",
   "execution_count": null,
   "metadata": {
    "colab": {
     "base_uri": "https://localhost:8080/"
    },
    "id": "mk6hAMDiyF0k",
    "outputId": "671707dc-7268-44b8-f069-c49a4dce43b3"
   },
   "outputs": [],
   "source": [
    "cld.keys()"
   ]
  },
  {
   "cell_type": "code",
   "execution_count": null,
   "metadata": {
    "id": "qrvvqeqdrsNx"
   },
   "outputs": [],
   "source": [
    "# Save results in NPY format for processing and plotting\n",
    "np.save('cld_bulk_sticky_nanostars.npy', cld, allow_pickle = True)"
   ]
  },
  {
   "cell_type": "code",
   "execution_count": null,
   "metadata": {
    "colab": {
     "base_uri": "https://localhost:8080/"
    },
    "id": "InxidUS14ubb",
    "outputId": "e15cb6c0-f775-4681-fbd3-62db28e23daa"
   },
   "outputs": [],
   "source": [
    "# Load saved results to check they were correctly saved\n",
    "cld_bulk_single = np.load('cld_bulk_sticky_nanostars.npy', allow_pickle = True).item()\n",
    "cld_bulk_single['NS_A'][1].keys()"
   ]
  }
 ],
 "metadata": {
  "colab": {
   "provenance": []
  },
  "kernelspec": {
   "display_name": "Python 3 (ipykernel)",
   "language": "python",
   "name": "python3"
  },
  "language_info": {
   "codemirror_mode": {
    "name": "ipython",
    "version": 3
   },
   "file_extension": ".py",
   "mimetype": "text/x-python",
   "name": "python",
   "nbconvert_exporter": "python",
   "pygments_lexer": "ipython3",
   "version": "3.10.9"
  }
 },
 "nbformat": 4,
 "nbformat_minor": 1
}
