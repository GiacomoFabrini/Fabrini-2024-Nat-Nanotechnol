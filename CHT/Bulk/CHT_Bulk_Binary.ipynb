{
 "cells": [
  {
   "cell_type": "markdown",
   "id": "92badc88",
   "metadata": {},
   "source": [
    "Data needed in input: \n",
    "- equatorial planes at timepoint 48.5 from epifluorescence timelapse of binary systems in bulk - these can be extracted using the script at \"Timelapse Preprocessing - Extraction from ND2/Extraction_equatorial_zplane.ipynb\". The script assumes these images are located in a directory termed `experiment_dir`."
   ]
  },
  {
   "cell_type": "code",
   "execution_count": 1,
   "id": "06816eb2",
   "metadata": {},
   "outputs": [],
   "source": [
    "# Import dependencies\n",
    "import cv2\n",
    "import matplotlib as mpl\n",
    "import matplotlib.pyplot as plt\n",
    "import numpy as np\n",
    "import os\n",
    "import pandas as pd\n",
    "import seaborn as sns\n",
    "\n",
    "# Helper function to convert images to 8bit\n",
    "def convert_8bit(image): \n",
    "    return np.array(image, dtype = np.uint8)"
   ]
  },
  {
   "cell_type": "code",
   "execution_count": 2,
   "id": "2c300943",
   "metadata": {},
   "outputs": [],
   "source": [
    "# Function to perform Circle Hough Transform\n",
    "def run_CHT_fluo(\n",
    "    patch_fluo, \n",
    "    blur, \n",
    "    param1, \n",
    "    param2\n",
    "): \n",
    "    \"\"\"\n",
    "    Perform Circle Hough Transform on a fluorescence image patch.\n",
    "\n",
    "    This function applies a median blur to the input image to reduce noise, \n",
    "    then converts the image to color to allow for circle overlays. It uses \n",
    "    Circle Hough Transform (OpenCV implementation, with HOUGH_GRADIENT_ALT method)\n",
    "    to detect circles, and draws the detected circles on the image.\n",
    "\n",
    "    Parameters:\n",
    "    patch_fluo (numpy.ndarray): The input grayscale fluorescence image patch.\n",
    "    blur (int): The kernel size for the median blur operation.\n",
    "    param1 (float): The higher threshold for the Canny edge detector.\n",
    "    param2 (float): The measure of circularity required for detected circles.\n",
    "    \n",
    "    Returns:\n",
    "    tuple: A tuple containing:\n",
    "        - circles (numpy.ndarray): A list of detected circles, each specified by (x, y, radius).\n",
    "        - cimg (numpy.ndarray): The color image with the detected circles overlaid.\n",
    "        - If no circles are detected, returns None.\n",
    "    \"\"\"\n",
    "    # Blur (denoising step)\n",
    "    patch_blur = cv2.medianBlur(patch_fluo, blur)\n",
    "    # Convert to colour to draw circle overlays\n",
    "    cimg = cv2.cvtColor(patch_blur,cv2.COLOR_GRAY2BGR)\n",
    "    # Run actual CHT via more accurate HOUGH_GRADIENT_ALT\n",
    "    # doc: https://docs.opencv.org/4.x/dd/d1a/group__imgproc__feature.html#ga47849c3be0d0406ad3ca45db65a25d2d\n",
    "    circles = cv2.HoughCircles(\n",
    "        image=patch_blur,\n",
    "        method=cv2.HOUGH_GRADIENT_ALT,  # method\n",
    "        dp=5,  # Inverse ratio of the accumulator resolution to the image resolution\n",
    "        minDist=20,  # Minimum distance between the centers of the detected circles.\n",
    "        param1=param1,  # higher threshold of the two passed to the Canny edge detector\n",
    "        param2=param2,  # circle \"perfectness\" measure\n",
    "        minRadius=20,  # minimum circle radius\n",
    "        maxRadius=500  # maximum circle radius\n",
    "    )\n",
    "    # Process results from circle segmentation\n",
    "    if circles is None: \n",
    "        return None\n",
    "    if type(circles.any()) != 'NoneType': \n",
    "        circles = np.uint16(np.around(circles))\n",
    "        for i in circles[0,:]:\n",
    "            # draw the outer circle\n",
    "            cv2.circle(cimg,(i[0],i[1]),i[2],(0,255,0),2)\n",
    "            # draw the center of the circle\n",
    "            cv2.circle(cimg,(i[0],i[1]),2,(0,0,255),3)\n",
    "        return circles, cimg"
   ]
  },
  {
   "cell_type": "code",
   "execution_count": 3,
   "id": "931d5706",
   "metadata": {},
   "outputs": [],
   "source": [
    "# Function to run CHT analysis, plot results and return them in a single list\n",
    "def analyse(images, blur, param1, param2): \n",
    "    results = []\n",
    "    for image in images:\n",
    "        # Load and convert to 8-bit\n",
    "        img = cv2.imreadmulti(image)[1][0]\n",
    "        img_8bit = convert_8bit(img)\n",
    "        # Plot 8-bit image on the left and circle-overlayed image on the right\n",
    "        plt.subplots(1, 2, figsize = (8, 4))\n",
    "        plt.subplot(121)\n",
    "        plt.imshow(img_8bit)\n",
    "        plt.subplot(122)\n",
    "        circles, cimg = run_CHT_fluo(\n",
    "            img, blur, param1, param2\n",
    "        )\n",
    "        plt.imshow(cimg)\n",
    "        plt.show()\n",
    "        # Add found circles to growing results list\n",
    "        results.append(circles)\n",
    "    return results"
   ]
  },
  {
   "cell_type": "code",
   "execution_count": 4,
   "id": "d4d6c4ef",
   "metadata": {},
   "outputs": [],
   "source": [
    "def remove_superimposing(circles, min_dist=5, px_um_conv=3.0852): \n",
    "    \"\"\"\n",
    "    params: \n",
    "    circles: list of found circles, each being (x, y, radius)\n",
    "    min_dist: if distance between X and Y coordinates of two detected circles is lower than min_dist, these\n",
    "    are considered to be superimposed - only the larger one is kept.\n",
    "    px_um_conv: pixel to micron for 20x Nikon Ti2 lens in use - change to match your setup\n",
    "    (in particular, it represents how many pixels equal 1 micron)\n",
    "    \n",
    "    returns: \n",
    "    list of radii of non-superimposing circles, converted to microns\n",
    "    \"\"\"\n",
    "    xs, ys, rs = [], [], []\n",
    "    indices = []\n",
    "    for i in range(len(circles[0])):\n",
    "        for j in range(i+1, len(circles[0])): \n",
    "            if np.abs(float(circles[0][i][0]) - float(circles[0][j][0])) < min_dist: \n",
    "                if np.abs(float(circles[0][i][1]) - float(circles[0][j][1])) < min_dist: \n",
    "                    if circles[0][i][2] >= circles[0][j][2]: \n",
    "                        indices.append(j) # indices to discard\n",
    "                    elif circles[0][i][2] <= circles[0][j][2]: \n",
    "                        indices.append(i) # indices to discard\n",
    "    print('Excluded indices: ', set(indices))\n",
    "    for i in range(len(circles[0])): \n",
    "        if i not in indices: \n",
    "            xs.append(circles[0][i][0])\n",
    "            ys.append(circles[0][i][1])\n",
    "            rs.append(circles[0][i][2])\n",
    "     \n",
    "    return [circles[0][i][2]*(1/px_um_conv) for i in range(len(circles[0]))  if i not in indices]"
   ]
  },
  {
   "cell_type": "code",
   "execution_count": 5,
   "id": "81be97df",
   "metadata": {},
   "outputs": [],
   "source": [
    "# Helper function to process nested list into single flat list.\n",
    "# This can probably be accomplished with a simple np.concatenate(radii).\n",
    "def extract_nested_list(radii): \n",
    "    radii_list = []\n",
    "    for i in range(len(radii)): \n",
    "        for j in range(len(radii[i])): \n",
    "            radii_list.append(radii[i][j])\n",
    "    return np.array(radii_list)"
   ]
  },
  {
   "cell_type": "code",
   "execution_count": 6,
   "id": "51ad35ae",
   "metadata": {},
   "outputs": [],
   "source": [
    "# CHANGE TO ABSOLUTE PATH OF DIRECTORY CONTAINING IMAGES\n",
    "experiment_dir = \"/ABSOLUTE/PATH/TO/DIRECTORY/\"\n",
    "# CHANGE TO ABSOLUTE PATH OF RESULTS DIRECTORY (WHERE INTERMEDIATE RESULT FILES WILL BE SAVED)\n",
    "results_dir = \"/ABSOLUTE/PATH/TO/RESULTS/DIR/\""
   ]
  },
  {
   "cell_type": "code",
   "execution_count": null,
   "id": "82748e8a",
   "metadata": {},
   "outputs": [],
   "source": [
    "os.chdir(experiment_dir)\n",
    "files = list(os.listdir())\n",
    "\n",
    "# Define list of files per sample (one file per FOV and channel)\n",
    "a1_b4_mg = [file for file in files if 'MG_a1_b4' in file and '._' not in file]\n",
    "a1_b2_mg = [file for file in files if 'MG_a1_b2' in file and '._' not in file]\n",
    "a1_b1_mg = [file for file in files if 'MG_a1_b1' in file and '._' not in file]\n",
    "a2_b1_mg = [file for file in files if 'MG_a2_b1' in file and '._' not in file]\n",
    "a4_b1_mg = [file for file in files if 'MG_a4_b1' in file and '._' not in file]\n",
    "\n",
    "a1_b4_dfhbi = [file for file in files if 'DFHBI_a1_b4' in file and '._' not in file]\n",
    "a1_b2_dfhbi = [file for file in files if 'DFHBI_a1_b2' in file and '._' not in file]\n",
    "a1_b1_dfhbi = [file for file in files if 'DFHBI_a1_b1' in file and '._' not in file]\n",
    "a2_b1_dfhbi = [file for file in files if 'DFHBI_a2_b1' in file and '._' not in file]\n",
    "a4_b1_dfhbi = [file for file in files if 'DFHBI_a4_b1' in file and '._' not in file]"
   ]
  },
  {
   "cell_type": "markdown",
   "id": "7b3f98d6",
   "metadata": {},
   "source": [
    "# Analyse"
   ]
  },
  {
   "cell_type": "code",
   "execution_count": null,
   "id": "436f8888",
   "metadata": {
    "scrolled": false
   },
   "outputs": [],
   "source": [
    "# [A_T]/[B-T] = 0.25\n",
    "# Set common params\n",
    "blur = 3\n",
    "param2 = 0.5\n",
    "\n",
    "circles_a1_b4_mg, circles_a1_b4_dfhbi = [\n",
    "    analyse(images, blur, param1, param2)\n",
    "    for images, param1 in zip([a1_b4_mg, a1_b4_dfhbi], [50, 60])\n",
    "]"
   ]
  },
  {
   "cell_type": "code",
   "execution_count": null,
   "id": "34cf4152",
   "metadata": {
    "scrolled": false
   },
   "outputs": [],
   "source": [
    "# [A_T]/[B-T] = 0.50\n",
    "# Set common params\n",
    "blur = 3\n",
    "\n",
    "circles_a1_b2_mg, circles_a1_b2_dfhbi = [\n",
    "    analyse(images, blur, param1, param2)\n",
    "    for images, param1, param2 in zip([a1_b2_mg, a1_b2_dfhbi], [35, 75], [0.5, 0.7])\n",
    "]"
   ]
  },
  {
   "cell_type": "code",
   "execution_count": null,
   "id": "b7cf47c1",
   "metadata": {},
   "outputs": [],
   "source": [
    "# [A_T]/[B-T] = 1\n",
    "# Set common params\n",
    "blur = 3\n",
    "param2 = 0.5\n",
    " \n",
    "circles_a1_b1_mg, circles_a1_b1_dfhbi = [\n",
    "    analyse(images, blur, param1, param2)\n",
    "    for images, param1 in zip([a1_b1_mg, a1_b1_dfhbi], [45, 70])\n",
    "]"
   ]
  },
  {
   "cell_type": "code",
   "execution_count": null,
   "id": "6b9129b3",
   "metadata": {},
   "outputs": [],
   "source": [
    "# [A_T]/[B-T] = 2\n",
    "# Set common params\n",
    "blur = 3\n",
    "param2 = 0.5\n",
    " \n",
    "circles_a2_b1_mg, circles_a2_b1_dfhbi = [\n",
    "    analyse(images, blur, param1, param2)\n",
    "    for images, param1 in zip([a2_b1_mg, a2_b1_dfhbi], [45, 90])\n",
    "]"
   ]
  },
  {
   "cell_type": "code",
   "execution_count": null,
   "id": "9adacae4",
   "metadata": {},
   "outputs": [],
   "source": [
    "# [A_T]/[B-T] = 4\n",
    "# Set common params\n",
    "blur = 3\n",
    "\n",
    "circles_a4_b1_mg, circles_a4_b1_dfhbi = [\n",
    "    analyse(images, blur, param1, param2)\n",
    "    for images, param1, param2 in zip([a4_b1_mg, a4_b1_dfhbi], [33, 120], [0.5, 0.7])\n",
    "]"
   ]
  },
  {
   "cell_type": "markdown",
   "id": "8f733bac",
   "metadata": {},
   "source": [
    "# Remove superimposing circles, process and save results"
   ]
  },
  {
   "cell_type": "code",
   "execution_count": null,
   "id": "048ef043",
   "metadata": {},
   "outputs": [],
   "source": [
    "radii_a1_b4_mg, radii_a1_b4_dfhbi = [\n",
    "    remove_superimposing(circles) \n",
    "    for circles in [circles_a1_b4_mg, circles_a1_b4_dfhbi]\n",
    "]\n",
    "\n",
    "radii_a1_b2_mg, radii_a1_b2_dfhbi = [\n",
    "    remove_superimposing(circles) \n",
    "    for circles in [circles_a1_b2_mg, circles_a1_b2_dfhbi]\n",
    "]\n",
    "\n",
    "radii_a1_b1_mg, radii_a1_b1_dfhbi = [\n",
    "    remove_superimposing(circles) \n",
    "    for circles in [circles_a1_b1_mg, circles_a1_b1_dfhbi]\n",
    "]\n",
    "\n",
    "radii_a2_b1_mg, radii_a2_b1_dfhbi = [\n",
    "    remove_superimposing(circles) \n",
    "    for circles in [circles_a2_b1_mg, circles_a2_b1_dfhbi]\n",
    "]\n",
    "\n",
    "radii_a4_b1_mg, radii_a4_b1_dfhbi = [\n",
    "    remove_superimposing(circles) \n",
    "    for circles in [circles_a4_b1_mg, circles_a4_b1_dfhbi]\n",
    "]"
   ]
  },
  {
   "cell_type": "code",
   "execution_count": null,
   "id": "73c5dde9",
   "metadata": {},
   "outputs": [],
   "source": [
    "r = {'A1:B4' : {'MG' : extract_nested_list(radii_a1_b4_mg), \n",
    "                 'DFHBI' : extract_nested_list(radii_a1_b4_dfhbi)}, \n",
    "    'A1:B2' : {'MG' : extract_nested_list(radii_a1_b2_mg), \n",
    "                 'DFHBI' : extract_nested_list(radii_a1_b2_dfhbi)}, \n",
    "    'A1:B1' : {'MG' : extract_nested_list(radii_a1_b1_mg), \n",
    "                 'DFHBI' : extract_nested_list(radii_a1_b1_dfhbi)},\n",
    "    'A2:B1' : {'MG' : extract_nested_list(radii_a2_b1_mg), \n",
    "                 'DFHBI' : extract_nested_list(radii_a2_b1_dfhbi)}, \n",
    "    'A4:B1' : {'MG' : extract_nested_list(radii_a4_b1_mg), \n",
    "                 'DFHBI' : extract_nested_list(radii_a4_b1_dfhbi)}}\n",
    "\n",
    "np.save(results_dir+'radiuses_binary_bulk_CHT.npy', r, allow_pickle=True)"
   ]
  },
  {
   "cell_type": "code",
   "execution_count": 7,
   "id": "7926b6fd",
   "metadata": {},
   "outputs": [],
   "source": [
    "# Reload results to simply plot results once the pipeline has been run\n",
    "r = np.load(results_dir+'radiuses_binary_bulk_CHT.npy', allow_pickle=True).item()"
   ]
  },
  {
   "cell_type": "markdown",
   "id": "3f1a9721",
   "metadata": {},
   "source": [
    "# Convert in pandas DataFrames and plot"
   ]
  },
  {
   "cell_type": "code",
   "execution_count": 8,
   "id": "51a81d1f",
   "metadata": {},
   "outputs": [],
   "source": [
    "# build single flat list of all radii for A condensates\n",
    "temp_A = [\n",
    "    item \n",
    "    for key in ['A1:B4', 'A1:B2', 'A1:B1', 'A2:B1', 'A4:B1']\n",
    "    for item in r[key]['MG']\n",
    "]\n",
    "# and matching list of the sample template ratios\n",
    "temp_ratio_A = sum(\n",
    "    (len(r[key]['MG']) * [key] for key in ['A1:B4', 'A1:B2', 'A1:B1', 'A2:B1', 'A4:B1']),\n",
    "    []\n",
    ")\n",
    "\n",
    "# same for B condensates\n",
    "temp_B = [\n",
    "    item \n",
    "    for key in ['A1:B4', 'A1:B2', 'A1:B1', 'A2:B1', 'A4:B1']\n",
    "    for item in r[key]['DFHBI']\n",
    "]\n",
    "temp_ratio_B = sum(\n",
    "    (len(r[key]['DFHBI']) * [key] for key in ['A1:B4', 'A1:B2', 'A1:B1', 'A2:B1', 'A4:B1']),\n",
    "    []\n",
    ")\n",
    "\n",
    "# Concatenate\n",
    "data_a = np.array([temp_ratio_A, temp_A])\n",
    "data_b = np.array([temp_ratio_B, temp_B])"
   ]
  },
  {
   "cell_type": "code",
   "execution_count": 9,
   "id": "89df9a58",
   "metadata": {},
   "outputs": [],
   "source": [
    "# Convert to pandas DataFrames\n",
    "dataset_A = pd.DataFrame({'Sample_Template_Ratio': np.array(temp_ratio_A), 'r_A': np.array(temp_A)})\n",
    "dataset_B = pd.DataFrame({'Sample_Template_Ratio': np.array(temp_ratio_B), 'r_B': np.array(temp_B)})"
   ]
  },
  {
   "cell_type": "code",
   "execution_count": 10,
   "id": "2e6f42bb",
   "metadata": {},
   "outputs": [
    {
     "data": {
      "image/png": "[encoded data removed]",
      "text/plain": [
       "<Figure size 700x300 with 1 Axes>"
      ]
     },
     "metadata": {},
     "output_type": "display_data"
    }
   ],
   "source": [
    "# Plot - Figure 2d\n",
    "mpl.rcParams['mathtext.default'] = 'regular'\n",
    "\n",
    "plt.figure(figsize = (7, 3))\n",
    "ax = sns.violinplot(\n",
    "    x = 'Sample_Template_Ratio', \n",
    "    y = 'r_A', \n",
    "    data = dataset_A, \n",
    "    palette=\"Reds\", \n",
    "    inner = None, \n",
    "    scale = 'count', \n",
    "    bw = 0.45\n",
    ")\n",
    "ax = sns.violinplot(\n",
    "    x = 'Sample_Template_Ratio', \n",
    "    y = 'r_B', \n",
    "    data = dataset_B, \n",
    "    palette=\"Blues_r\", \n",
    "    inner = None, scale = \n",
    "    'count', \n",
    "    bw = 0.45\n",
    ")\n",
    "# X axis\n",
    "ax.set_xlabel(r'$[template_{A}] / [template_{B}]$', fontsize = 20)\n",
    "ax.set_xticks([0, 1, 2, 3, 4])\n",
    "plt.xlim([-0.75, 4.75])\n",
    "ax.set_xticklabels([0.25, '0.50', 1, 2, 4], fontsize = 20)\n",
    "# Y axis\n",
    "ax.set_yticks([0, 25, 50, 75, 100])\n",
    "ax.set_yticklabels([0, '', 50, '', 100], fontsize = 20)\n",
    "plt.ylim([-40, 140])\n",
    "ax.set_ylabel(r'$r_{C}$ [$\\mu$m]', fontsize = 20)\n",
    "\n",
    "ax.tick_params(direction = 'in', length = 6)\n",
    "plt.setp(ax.collections, alpha=.5);\n",
    "\n",
    "# Include number of examined condensates for DFHBI channel (B)\n",
    "plt.text(-0.15, 120, len(r['A1:B4']['DFHBI']), fontsize = 15, color = 'darkcyan')\n",
    "plt.text(0.90, 95, len(r['A1:B2']['DFHBI']), fontsize = 15, color =  'darkcyan')\n",
    "plt.text(1.95, 95, len(r['A1:B1']['DFHBI']), fontsize = 15, color =  'darkcyan')\n",
    "plt.text(2.85, 95, len(r['A2:B1']['DFHBI']), fontsize = 15, color =  'darkcyan')\n",
    "plt.text(3.65, 120, len(r['A4:B1']['DFHBI']), fontsize = 15, color =  'darkcyan')\n",
    "\n",
    "# Include number of examined condensates for MG channel (A)\n",
    "plt.text(-0.40, -30, len(r['A1:B4']['MG']), fontsize = 15, color =  'firebrick')\n",
    "plt.text(0.7, -20, len(r['A1:B2']['MG']), fontsize = 15, color =  'firebrick')\n",
    "plt.text(1.7, -20, len(r['A1:B1']['MG']), fontsize = 15, color = 'firebrick')\n",
    "plt.text(2.7, -20, len(r['A2:B1']['MG']), fontsize = 15, color = 'firebrick')\n",
    "plt.text(3.7, -30, len(r['A4:B1']['MG']), fontsize = 15, color = 'firebrick')\n",
    "plt.show()"
   ]
  },
  {
   "cell_type": "code",
   "execution_count": null,
   "id": "6449dd6f",
   "metadata": {},
   "outputs": [],
   "source": []
  }
 ],
 "metadata": {
  "kernelspec": {
   "display_name": "Python 3 (ipykernel)",
   "language": "python",
   "name": "python3"
  },
  "language_info": {
   "codemirror_mode": {
    "name": "ipython",
    "version": 3
   },
   "file_extension": ".py",
   "mimetype": "text/x-python",
   "name": "python",
   "nbconvert_exporter": "python",
   "pygments_lexer": "ipython3",
   "version": "3.10.9"
  }
 },
 "nbformat": 4,
 "nbformat_minor": 5
}
